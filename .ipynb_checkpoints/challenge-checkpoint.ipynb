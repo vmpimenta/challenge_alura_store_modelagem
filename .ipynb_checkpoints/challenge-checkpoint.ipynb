{
 "cells": [
  {
   "cell_type": "code",
   "execution_count": 551,
   "id": "30a15e22-ba53-4810-839b-ffefd1e15b18",
   "metadata": {},
   "outputs": [],
   "source": [
    "import pandas as pd\n",
    "import matplotlib.pyplot as plt\n",
    "import seaborn as sns"
   ]
  },
  {
   "cell_type": "code",
   "execution_count": 553,
   "id": "00b014aa-11c1-432b-b0d4-33973710d7b9",
   "metadata": {},
   "outputs": [],
   "source": [
    "# Leitura do dataset (arquivos csv)\n",
    "loja1 = pd.read_csv(\"loja_1.csv\")\n",
    "loja2 = pd.read_csv(\"loja_2.csv\")\n",
    "loja3 = pd.read_csv(\"loja_3.csv\")\n",
    "loja4 = pd.read_csv(\"loja_4.csv\")"
   ]
  },
  {
   "cell_type": "code",
   "execution_count": 555,
   "id": "f65672e2-ba37-4d93-b831-23c28777397c",
   "metadata": {},
   "outputs": [
    {
     "data": {
      "text/html": [
       "<div>\n",
       "<style scoped>\n",
       "    .dataframe tbody tr th:only-of-type {\n",
       "        vertical-align: middle;\n",
       "    }\n",
       "\n",
       "    .dataframe tbody tr th {\n",
       "        vertical-align: top;\n",
       "    }\n",
       "\n",
       "    .dataframe thead th {\n",
       "        text-align: right;\n",
       "    }\n",
       "</style>\n",
       "<table border=\"1\" class=\"dataframe\">\n",
       "  <thead>\n",
       "    <tr style=\"text-align: right;\">\n",
       "      <th></th>\n",
       "      <th>Produto</th>\n",
       "      <th>Categoria do Produto</th>\n",
       "      <th>Preço</th>\n",
       "      <th>Frete</th>\n",
       "      <th>Data da Compra</th>\n",
       "      <th>Vendedor</th>\n",
       "      <th>Local da compra</th>\n",
       "      <th>Avaliação da compra</th>\n",
       "      <th>Tipo de pagamento</th>\n",
       "      <th>Quantidade de parcelas</th>\n",
       "      <th>lat</th>\n",
       "      <th>lon</th>\n",
       "    </tr>\n",
       "  </thead>\n",
       "  <tbody>\n",
       "    <tr>\n",
       "      <th>0</th>\n",
       "      <td>Cadeira de escritório</td>\n",
       "      <td>moveis</td>\n",
       "      <td>378.20</td>\n",
       "      <td>20.421138</td>\n",
       "      <td>04/08/2021</td>\n",
       "      <td>Thiago Silva</td>\n",
       "      <td>MG</td>\n",
       "      <td>1</td>\n",
       "      <td>boleto</td>\n",
       "      <td>1</td>\n",
       "      <td>-18.10</td>\n",
       "      <td>-44.38</td>\n",
       "    </tr>\n",
       "    <tr>\n",
       "      <th>1</th>\n",
       "      <td>Pandeiro</td>\n",
       "      <td>instrumentos musicais</td>\n",
       "      <td>102.37</td>\n",
       "      <td>3.035334</td>\n",
       "      <td>26/11/2020</td>\n",
       "      <td>Bianca Santos</td>\n",
       "      <td>RJ</td>\n",
       "      <td>3</td>\n",
       "      <td>cartao_credito</td>\n",
       "      <td>4</td>\n",
       "      <td>-22.25</td>\n",
       "      <td>-42.66</td>\n",
       "    </tr>\n",
       "    <tr>\n",
       "      <th>2</th>\n",
       "      <td>Cama king</td>\n",
       "      <td>moveis</td>\n",
       "      <td>591.13</td>\n",
       "      <td>31.759020</td>\n",
       "      <td>22/10/2021</td>\n",
       "      <td>Thiago Silva</td>\n",
       "      <td>SC</td>\n",
       "      <td>5</td>\n",
       "      <td>cartao_credito</td>\n",
       "      <td>10</td>\n",
       "      <td>-27.45</td>\n",
       "      <td>-50.95</td>\n",
       "    </tr>\n",
       "  </tbody>\n",
       "</table>\n",
       "</div>"
      ],
      "text/plain": [
       "                 Produto   Categoria do Produto   Preço      Frete  \\\n",
       "0  Cadeira de escritório                 moveis  378.20  20.421138   \n",
       "1               Pandeiro  instrumentos musicais  102.37   3.035334   \n",
       "2              Cama king                 moveis  591.13  31.759020   \n",
       "\n",
       "  Data da Compra       Vendedor Local da compra  Avaliação da compra  \\\n",
       "0     04/08/2021   Thiago Silva              MG                    1   \n",
       "1     26/11/2020  Bianca Santos              RJ                    3   \n",
       "2     22/10/2021   Thiago Silva              SC                    5   \n",
       "\n",
       "  Tipo de pagamento  Quantidade de parcelas    lat    lon  \n",
       "0            boleto                       1 -18.10 -44.38  \n",
       "1    cartao_credito                       4 -22.25 -42.66  \n",
       "2    cartao_credito                      10 -27.45 -50.95  "
      ]
     },
     "execution_count": 555,
     "metadata": {},
     "output_type": "execute_result"
    }
   ],
   "source": [
    "loja2.head(3)"
   ]
  },
  {
   "cell_type": "code",
   "execution_count": 557,
   "id": "0d2f416f-0f4f-4bc1-b6c9-1c52c513a47a",
   "metadata": {},
   "outputs": [],
   "source": [
    "# FATURAMENTO \n",
    "# Função para trazer o faturamento de cada loja;\n",
    "\n",
    "def faturamento(dataset):\n",
    "    faturamento_loja = sum(dataset[\"Preço\"])\n",
    "    return faturamento_loja\n",
    "    #return f'{faturamento_loja:,.2f}' RETORNAR UMA STRING FORMATADA APENAS QUANDO FOR PRA EXIBIR"
   ]
  },
  {
   "cell_type": "code",
   "execution_count": 559,
   "id": "44656fe0-fb69-4190-be96-281b110bbad1",
   "metadata": {},
   "outputs": [],
   "source": [
    "# VENDAS POR CATEGORIA\n",
    "# função que traz as vendas por categoria\n",
    "\n",
    "def vendas_categoria(dataset):\n",
    "    resultado = dataset.groupby(\"Categoria do Produto\").count()\n",
    "    return resultado[\"Produto\"].sort_values(ascending=False)"
   ]
  },
  {
   "cell_type": "code",
   "execution_count": 561,
   "id": "673362d9-7869-4607-bc0a-33d5064653e9",
   "metadata": {},
   "outputs": [],
   "source": [
    "# MEDIA DE AVALIACOES DAS LOJAS\n",
    "# função que traz a media de avaliacoes das lojas\n",
    "\n",
    "def media_avaliacoes(dataset):\n",
    "    media = dataset[\"Avaliação da compra\"].mean()\n",
    "    return round(media,2)"
   ]
  },
  {
   "cell_type": "code",
   "execution_count": 563,
   "id": "ed10a614-32b3-4075-91a7-dcb502b43035",
   "metadata": {},
   "outputs": [],
   "source": [
    "# PRODUTOS MAIS VENDIDOS E MENOS VENDIDOS\n",
    "# função que retorna os 5 produtos mais e menos vendidos\n",
    "\n",
    "def mais_menos_vendidos(dataset):\n",
    "    agrupados = dataset.groupby(\"Produto\")[\"Produto\"].count()\n",
    "    \n",
    "    mais_vendidos = agrupados.sort_values(ascending=False).head(5)\n",
    "    menos_vendidos = agrupados.sort_values(ascending=False).tail(5)\n",
    "    return mais_vendidos, menos_vendidos"
   ]
  },
  {
   "cell_type": "code",
   "execution_count": 565,
   "id": "d099eaa2-6645-4cce-a56a-da6efe3c029a",
   "metadata": {},
   "outputs": [],
   "source": [
    "# FRETE MÉDIO POR LOJA\n",
    "# função que retorna o valor médio por Loja\n",
    "\n",
    "def media_frete(dataset):\n",
    "    media = dataset[\"Frete\"].mean()\n",
    "    return round(media,2)"
   ]
  },
  {
   "cell_type": "markdown",
   "id": "40536ac4-9716-4097-b0ad-f4519b9e330e",
   "metadata": {},
   "source": [
    "## 1. Faturamento"
   ]
  },
  {
   "cell_type": "code",
   "execution_count": 568,
   "id": "029f0712-497d-4288-bce0-91877a1791cb",
   "metadata": {},
   "outputs": [
    {
     "name": "stdout",
     "output_type": "stream",
     "text": [
      "Faturamento Loja_1: 1,534,509.12\n",
      "Faturamento Loja_2: 1,488,459.06\n",
      "Faturamento Loja_3: 1,464,025.03\n",
      "Faturamento Loja_4: 1,384,497.58\n"
     ]
    }
   ],
   "source": [
    "print(f'Faturamento Loja_1: {faturamento(loja1):,.2f}')\n",
    "print(f'Faturamento Loja_2: {faturamento(loja2):,.2f}')\n",
    "print(f'Faturamento Loja_3: {faturamento(loja3):,.2f}')\n",
    "print(f'Faturamento Loja_4: {faturamento(loja4):,.2f}')"
   ]
  },
  {
   "cell_type": "markdown",
   "id": "2d184cfb-83f4-4299-ad0d-9b452e70af36",
   "metadata": {},
   "source": [
    "## 2. Vendas por Categoria"
   ]
  },
  {
   "cell_type": "code",
   "execution_count": 571,
   "id": "95824315-331c-4ca3-a96a-db829fa42868",
   "metadata": {},
   "outputs": [
    {
     "name": "stdout",
     "output_type": "stream",
     "text": [
      "Vendas por categoria \n",
      "Categoria do Produto\n",
      "moveis                   465\n",
      "eletronicos              448\n",
      "brinquedos               324\n",
      "eletrodomesticos         312\n",
      "esporte e lazer          284\n",
      "instrumentos musicais    182\n",
      "livros                   173\n",
      "utilidades domesticas    171\n",
      "Name: Produto, dtype: int64\n",
      " \n",
      "Vendas por categoria \n",
      "Categoria do Produto\n",
      "moveis                   442\n",
      "eletronicos              422\n",
      "brinquedos               313\n",
      "eletrodomesticos         305\n",
      "esporte e lazer          275\n",
      "instrumentos musicais    224\n",
      "livros                   197\n",
      "utilidades domesticas    181\n",
      "Name: Produto, dtype: int64\n",
      " \n",
      "Vendas por categoria \n",
      "Categoria do Produto\n",
      "moveis                   499\n",
      "eletronicos              451\n",
      "brinquedos               315\n",
      "eletrodomesticos         278\n",
      "esporte e lazer          277\n",
      "livros                   185\n",
      "instrumentos musicais    177\n",
      "utilidades domesticas    177\n",
      "Name: Produto, dtype: int64\n",
      " \n",
      "Vendas por categoria \n",
      "Categoria do Produto\n",
      "moveis                   480\n",
      "eletronicos              451\n",
      "brinquedos               338\n",
      "esporte e lazer          277\n",
      "eletrodomesticos         254\n",
      "utilidades domesticas    201\n",
      "livros                   187\n",
      "instrumentos musicais    170\n",
      "Name: Produto, dtype: int64\n"
     ]
    }
   ],
   "source": [
    "print(f'Vendas por categoria \\n{vendas_categoria(loja1)}')\n",
    "print(\" \")\n",
    "print(f'Vendas por categoria \\n{vendas_categoria(loja2)}')\n",
    "print(\" \")\n",
    "print(f'Vendas por categoria \\n{vendas_categoria(loja3)}')\n",
    "print(\" \")\n",
    "print(f'Vendas por categoria \\n{vendas_categoria(loja4)}')"
   ]
  },
  {
   "cell_type": "markdown",
   "id": "4b34913a-45b7-4264-9ff3-21edccbfe7e1",
   "metadata": {},
   "source": [
    "## 3. Média de Avaliações das Lojas"
   ]
  },
  {
   "cell_type": "code",
   "execution_count": 574,
   "id": "3e047c60-23d5-4bf1-b9ab-5e227f484b5d",
   "metadata": {},
   "outputs": [
    {
     "name": "stdout",
     "output_type": "stream",
     "text": [
      "Média Avaliações Loja_1 3.98\n",
      "Média Avaliações Loja_2 4.04\n",
      "Média Avaliações Loja_3 4.05\n",
      "Média Avaliações Loja_4 4.0\n"
     ]
    }
   ],
   "source": [
    "print(f'Média Avaliações Loja_1 {media_avaliacoes(loja1)}')\n",
    "print(f'Média Avaliações Loja_2 {media_avaliacoes(loja2)}')\n",
    "print(f'Média Avaliações Loja_3 {media_avaliacoes(loja3)}')\n",
    "print(f'Média Avaliações Loja_4 {media_avaliacoes(loja4)}')"
   ]
  },
  {
   "cell_type": "markdown",
   "id": "a5a70c65-cc10-4ef8-9cdc-deb4eb24346c",
   "metadata": {},
   "source": [
    "## 4. Produtos Mais e Menos Vendidos"
   ]
  },
  {
   "cell_type": "code",
   "execution_count": 577,
   "id": "978980d2-d729-4ee8-912a-e2323d851809",
   "metadata": {},
   "outputs": [
    {
     "data": {
      "text/plain": [
       "(Produto\n",
       " TV Led UHD 4K         60\n",
       " Micro-ondas           60\n",
       " Guarda roupas         60\n",
       " Secadora de roupas    58\n",
       " Blocos de montar      56\n",
       " Name: Produto, dtype: int64,\n",
       " Produto\n",
       " Ciência de dados com python    39\n",
       " Pandeiro                       36\n",
       " Panela de pressão              35\n",
       " Celular ABXY                   33\n",
       " Headset                        33\n",
       " Name: Produto, dtype: int64)"
      ]
     },
     "execution_count": 577,
     "metadata": {},
     "output_type": "execute_result"
    }
   ],
   "source": [
    "mais_menos_vendidos(loja1)"
   ]
  },
  {
   "cell_type": "markdown",
   "id": "6117740c-3592-42b2-a911-de1f0c1be240",
   "metadata": {},
   "source": [
    "## 5. Frete Medio por Loja"
   ]
  },
  {
   "cell_type": "code",
   "execution_count": 580,
   "id": "71e79917-d7a3-4971-8236-7e91ec254b5d",
   "metadata": {},
   "outputs": [
    {
     "name": "stdout",
     "output_type": "stream",
     "text": [
      "Frete Médio Loja_1 34.69\n",
      "Frete Médio Loja_2 33.62\n",
      "Frete Médio Loja_3 33.07\n",
      "Frete Médio Loja_4 31.28\n"
     ]
    }
   ],
   "source": [
    "print(f'Frete Médio Loja_1 {media_frete(loja1)}')\n",
    "print(f'Frete Médio Loja_2 {media_frete(loja2)}')\n",
    "print(f'Frete Médio Loja_3 {media_frete(loja3)}')\n",
    "print(f'Frete Médio Loja_4 {media_frete(loja4)}')"
   ]
  },
  {
   "cell_type": "markdown",
   "id": "a633f027-6a63-4b28-a51d-6a4be5eb4d3d",
   "metadata": {},
   "source": [
    "# VISUALIZAÇÃO"
   ]
  },
  {
   "cell_type": "markdown",
   "id": "2a12248e-b295-4a87-baeb-55d612e462d2",
   "metadata": {},
   "source": [
    "### Gráfico 1: Faturamento por Loja"
   ]
  },
  {
   "cell_type": "code",
   "execution_count": 584,
   "id": "da02bc9b-031e-42dd-972c-bfb8af115f79",
   "metadata": {},
   "outputs": [],
   "source": [
    "lojas = [\"Loja 1\", \"Loja 2\", \"Loja 3\", \"Loja 4\"]\n",
    "lista_faturamento = [faturamento(loja1), faturamento(loja2), faturamento(loja3), faturamento(loja4)]"
   ]
  },
  {
   "cell_type": "code",
   "execution_count": 586,
   "id": "f3903033-26ed-4b23-b684-c1856a4f91d9",
   "metadata": {},
   "outputs": [
    {
     "data": {
      "image/png": "[encoded data removed]",
      "text/plain": [
       "<Figure size 640x480 with 1 Axes>"
      ]
     },
     "metadata": {},
     "output_type": "display_data"
    }
   ],
   "source": [
    "plt.bar(lojas, lista_faturamento, color='skyblue') # criando o gráfico de barras\n",
    "plt.title(\"Faturamento por Loja\") # Titulo\n",
    "plt.xlabel(\"Lojas\") # Titulo eixo X\n",
    "plt.ylabel(\"Faturamento (R$)\") # Titulo eixo Y\n",
    "plt.grid(axis='y', linestyle='--', alpha=0.5) # Linhas de grade\n",
    "\n",
    "# colocando os valores no topo das barras\n",
    "for i, valor in enumerate(lista_faturamento):\n",
    "    plt.text(i, valor + max(lista_faturamento)*0.01, f'R${valor:,.2f}', ha='center')"
   ]
  },
  {
   "cell_type": "markdown",
   "id": "c08a26c7-c4de-4220-bc76-bfb2a7880c00",
   "metadata": {},
   "source": [
    "## Gráfico 2: Média de Avaliação por Loja"
   ]
  },
  {
   "cell_type": "code",
   "execution_count": 589,
   "id": "8ca02d10-eee5-48e0-b18f-ed2599c22e6b",
   "metadata": {},
   "outputs": [],
   "source": [
    "lojas = [\"Loja 1\", \"Loja 2\", \"Loja 3\", \"Loja 4\"]\n",
    "lista_avaliacao = [media_avaliacoes(loja1), media_avaliacoes(loja2), media_avaliacoes(loja3), media_avaliacoes(loja4)]"
   ]
  },
  {
   "cell_type": "code",
   "execution_count": 591,
   "id": "4f50697b-edbf-46e5-b068-a0b10d8f8e86",
   "metadata": {},
   "outputs": [
    {
     "data": {
      "image/png": "[encoded data removed]",
      "text/plain": [
       "<Figure size 640x480 with 1 Axes>"
      ]
     },
     "metadata": {},
     "output_type": "display_data"
    }
   ],
   "source": [
    "plt.plot(lojas, lista_avaliacao, 'o', color='skyblue', markersize=12)\n",
    "plt.title(\"Média de Avaliação por Loja\")\n",
    "plt.xlabel(\"Lojas\")\n",
    "plt.ylabel(\"Média\")\n",
    "plt.grid(axis='y', linestyle='--', alpha=0.5)"
   ]
  },
  {
   "cell_type": "markdown",
   "id": "7ee47d84-44dd-4e42-afa9-831754b28f04",
   "metadata": {},
   "source": [
    "## Gráfico 3: Média de Frete por Loja"
   ]
  },
  {
   "cell_type": "code",
   "execution_count": 594,
   "id": "12ebfd1f-95e4-4114-a164-8fc860b2c8b8",
   "metadata": {},
   "outputs": [],
   "source": [
    "lojas = [\"Loja 1\", \"Loja 2\", \"Loja 3\", \"Loja 4\"]\n",
    "lista_frete = [media_frete(loja1), media_frete(loja2), media_frete(loja3), media_frete(loja4)]"
   ]
  },
  {
   "cell_type": "code",
   "execution_count": 596,
   "id": "7fc41bba-bc97-4a99-99e4-0254003875aa",
   "metadata": {},
   "outputs": [
    {
     "data": {
      "text/plain": [
       "Text(0.5, 1.0, 'Média de Frete por Loja')"
      ]
     },
     "execution_count": 596,
     "metadata": {},
     "output_type": "execute_result"
    },
    {
     "data": {
      "image/png": "[encoded data removed]",
      "text/plain": [
       "<Figure size 640x480 with 1 Axes>"
      ]
     },
     "metadata": {},
     "output_type": "display_data"
    }
   ],
   "source": [
    "plt.pie(lista_frete, labels=lojas, autopct=lambda pct: f'R${pct/100*sum(lista_frete):.2f}')\n",
    "plt.title(\"Média de Frete por Loja\")"
   ]
  },
  {
   "cell_type": "markdown",
   "id": "35adb32a-6ec8-423c-9bdd-8855e3469adb",
   "metadata": {},
   "source": [
    "# RELATÓRIO"
   ]
  },
  {
   "cell_type": "markdown",
   "id": "a2696cbe-dfc4-46be-b640-4c3c02517db4",
   "metadata": {},
   "source": []
  },
  {
   "cell_type": "code",
   "execution_count": null,
   "id": "a2c74ab9-865d-4d3a-bd1e-e56240bb3342",
   "metadata": {},
   "outputs": [],
   "source": []
  },
  {
   "cell_type": "markdown",
   "id": "78533347-b3d0-4751-819d-2d2b908621cf",
   "metadata": {},
   "source": [
    "# MEUS TESTES"
   ]
  },
  {
   "cell_type": "code",
   "execution_count": null,
   "id": "43300adb-53b9-4ab5-9e51-d57a582bee55",
   "metadata": {},
   "outputs": [],
   "source": [
    "# Passo 1: adicionar uma coluna de loja a cada dataset\n",
    "loja1[\"Loja\"] = \"Loja 1\"\n",
    "loja2[\"Loja\"] = \"Loja 2\"\n",
    "loja3[\"Loja\"] = \"Loja 3\"\n",
    "loja4[\"Loja\"] = \"Loja 4\"\n",
    "\n",
    "# Passo 2: juntar todos os dados em um único DataFrame\n",
    "dados_completos = pd.concat([loja1, loja2, loja3, loja4])"
   ]
  },
  {
   "cell_type": "code",
   "execution_count": null,
   "id": "f6b1f52d-f5e6-431a-96c5-30872b919bd9",
   "metadata": {},
   "outputs": [],
   "source": []
  }
 ],
 "metadata": {
  "kernelspec": {
   "display_name": "Python [conda env:base] *",
   "language": "python",
   "name": "conda-base-py"
  },
  "language_info": {
   "codemirror_mode": {
    "name": "ipython",
    "version": 3
   },
   "file_extension": ".py",
   "mimetype": "text/x-python",
   "name": "python",
   "nbconvert_exporter": "python",
   "pygments_lexer": "ipython3",
   "version": "3.12.7"
  }
 },
 "nbformat": 4,
 "nbformat_minor": 5
}
