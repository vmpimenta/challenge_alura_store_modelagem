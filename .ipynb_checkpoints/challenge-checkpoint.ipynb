{
 "cells": [
  {
   "cell_type": "code",
   "execution_count": 1,
   "id": "30a15e22-ba53-4810-839b-ffefd1e15b18",
   "metadata": {},
   "outputs": [],
   "source": [
    "import pandas as pd"
   ]
  },
  {
   "cell_type": "code",
   "execution_count": 3,
   "id": "00b014aa-11c1-432b-b0d4-33973710d7b9",
   "metadata": {},
   "outputs": [],
   "source": [
    "# Leitura do dataset (arquivos csv)\n",
    "loja1 = pd.read_csv(\"loja_1.csv\")\n",
    "loja2 = pd.read_csv(\"loja_2.csv\")\n",
    "loja3 = pd.read_csv(\"loja_3.csv\")\n",
    "loja4 = pd.read_csv(\"loja_4.csv\")"
   ]
  },
  {
   "cell_type": "code",
   "execution_count": 8,
   "id": "f65672e2-ba37-4d93-b831-23c28777397c",
   "metadata": {},
   "outputs": [
    {
     "data": {
      "text/html": [
       "<div>\n",
       "<style scoped>\n",
       "    .dataframe tbody tr th:only-of-type {\n",
       "        vertical-align: middle;\n",
       "    }\n",
       "\n",
       "    .dataframe tbody tr th {\n",
       "        vertical-align: top;\n",
       "    }\n",
       "\n",
       "    .dataframe thead th {\n",
       "        text-align: right;\n",
       "    }\n",
       "</style>\n",
       "<table border=\"1\" class=\"dataframe\">\n",
       "  <thead>\n",
       "    <tr style=\"text-align: right;\">\n",
       "      <th></th>\n",
       "      <th>Produto</th>\n",
       "      <th>Categoria do Produto</th>\n",
       "      <th>Preço</th>\n",
       "      <th>Frete</th>\n",
       "      <th>Data da Compra</th>\n",
       "      <th>Vendedor</th>\n",
       "      <th>Local da compra</th>\n",
       "      <th>Avaliação da compra</th>\n",
       "      <th>Tipo de pagamento</th>\n",
       "      <th>Quantidade de parcelas</th>\n",
       "      <th>lat</th>\n",
       "      <th>lon</th>\n",
       "    </tr>\n",
       "  </thead>\n",
       "  <tbody>\n",
       "    <tr>\n",
       "      <th>0</th>\n",
       "      <td>Assistente virtual</td>\n",
       "      <td>eletronicos</td>\n",
       "      <td>219.08</td>\n",
       "      <td>9.249790</td>\n",
       "      <td>16/01/2021</td>\n",
       "      <td>Pedro Gomes</td>\n",
       "      <td>SP</td>\n",
       "      <td>4</td>\n",
       "      <td>cartao_credito</td>\n",
       "      <td>8</td>\n",
       "      <td>-22.19</td>\n",
       "      <td>-48.79</td>\n",
       "    </tr>\n",
       "    <tr>\n",
       "      <th>1</th>\n",
       "      <td>Mesa de jantar</td>\n",
       "      <td>moveis</td>\n",
       "      <td>256.35</td>\n",
       "      <td>11.234305</td>\n",
       "      <td>18/05/2022</td>\n",
       "      <td>Beatriz Moraes</td>\n",
       "      <td>RJ</td>\n",
       "      <td>1</td>\n",
       "      <td>cartao_credito</td>\n",
       "      <td>4</td>\n",
       "      <td>-22.25</td>\n",
       "      <td>-42.66</td>\n",
       "    </tr>\n",
       "    <tr>\n",
       "      <th>2</th>\n",
       "      <td>Jogo de tabuleiro</td>\n",
       "      <td>brinquedos</td>\n",
       "      <td>279.51</td>\n",
       "      <td>21.262681</td>\n",
       "      <td>15/03/2021</td>\n",
       "      <td>João Souza</td>\n",
       "      <td>DF</td>\n",
       "      <td>1</td>\n",
       "      <td>cartao_credito</td>\n",
       "      <td>1</td>\n",
       "      <td>-15.83</td>\n",
       "      <td>-47.86</td>\n",
       "    </tr>\n",
       "    <tr>\n",
       "      <th>3</th>\n",
       "      <td>Micro-ondas</td>\n",
       "      <td>eletrodomesticos</td>\n",
       "      <td>1009.99</td>\n",
       "      <td>54.667344</td>\n",
       "      <td>03/05/2022</td>\n",
       "      <td>João Souza</td>\n",
       "      <td>RS</td>\n",
       "      <td>4</td>\n",
       "      <td>boleto</td>\n",
       "      <td>1</td>\n",
       "      <td>-30.17</td>\n",
       "      <td>-53.50</td>\n",
       "    </tr>\n",
       "    <tr>\n",
       "      <th>4</th>\n",
       "      <td>Cadeira de escritório</td>\n",
       "      <td>moveis</td>\n",
       "      <td>446.99</td>\n",
       "      <td>26.964689</td>\n",
       "      <td>07/11/2020</td>\n",
       "      <td>Larissa Alves</td>\n",
       "      <td>MG</td>\n",
       "      <td>5</td>\n",
       "      <td>boleto</td>\n",
       "      <td>1</td>\n",
       "      <td>-18.10</td>\n",
       "      <td>-44.38</td>\n",
       "    </tr>\n",
       "  </tbody>\n",
       "</table>\n",
       "</div>"
      ],
      "text/plain": [
       "                 Produto Categoria do Produto    Preço      Frete  \\\n",
       "0     Assistente virtual          eletronicos   219.08   9.249790   \n",
       "1         Mesa de jantar               moveis   256.35  11.234305   \n",
       "2      Jogo de tabuleiro           brinquedos   279.51  21.262681   \n",
       "3            Micro-ondas     eletrodomesticos  1009.99  54.667344   \n",
       "4  Cadeira de escritório               moveis   446.99  26.964689   \n",
       "\n",
       "  Data da Compra        Vendedor Local da compra  Avaliação da compra  \\\n",
       "0     16/01/2021     Pedro Gomes              SP                    4   \n",
       "1     18/05/2022  Beatriz Moraes              RJ                    1   \n",
       "2     15/03/2021      João Souza              DF                    1   \n",
       "3     03/05/2022      João Souza              RS                    4   \n",
       "4     07/11/2020   Larissa Alves              MG                    5   \n",
       "\n",
       "  Tipo de pagamento  Quantidade de parcelas    lat    lon  \n",
       "0    cartao_credito                       8 -22.19 -48.79  \n",
       "1    cartao_credito                       4 -22.25 -42.66  \n",
       "2    cartao_credito                       1 -15.83 -47.86  \n",
       "3            boleto                       1 -30.17 -53.50  \n",
       "4            boleto                       1 -18.10 -44.38  "
      ]
     },
     "execution_count": 8,
     "metadata": {},
     "output_type": "execute_result"
    }
   ],
   "source": [
    "loja1.head()"
   ]
  },
  {
   "cell_type": "code",
   "execution_count": 31,
   "id": "0d2f416f-0f4f-4bc1-b6c9-1c52c513a47a",
   "metadata": {},
   "outputs": [],
   "source": [
    "# FATURAMENTO \n",
    "# Função para trazer o faturamento de cada loja;\n",
    "\n",
    "def faturamento(dataset):\n",
    "    faturamento_loja = sum(dataset[\"Preço\"])\n",
    "    return f'{faturamento_loja:,.2f}'"
   ]
  },
  {
   "cell_type": "code",
   "execution_count": 42,
   "id": "44656fe0-fb69-4190-be96-281b110bbad1",
   "metadata": {},
   "outputs": [],
   "source": [
    "# VENDAS POR CATEGORIA\n",
    "# função que traz as vendas por categoria\n",
    "\n",
    "def vendas_categoria(dataset):\n",
    "    resultado = dataset.groupby(\"Categoria do Produto\").count()\n",
    "    return resultado[\"Produto\"]  "
   ]
  },
  {
   "cell_type": "code",
   "execution_count": 37,
   "id": "673362d9-7869-4607-bc0a-33d5064653e9",
   "metadata": {},
   "outputs": [],
   "source": [
    "# MEDIA DE AVALIACOES DAS LOJAS\n",
    "# função que traz a media de avaliacoes das lojas\n",
    "\n",
    "def media_avaliacoes(dataset):\n",
    "    media = dataset[\"Avaliação da compra\"].mean()\n",
    "    return f'{round(media,2)}'"
   ]
  },
  {
   "cell_type": "code",
   "execution_count": null,
   "id": "ed10a614-32b3-4075-91a7-dcb502b43035",
   "metadata": {},
   "outputs": [],
   "source": [
    "# PRODUTOS MAIS VENDIDOS E MENOS VENDIDOS"
   ]
  },
  {
   "cell_type": "code",
   "execution_count": 41,
   "id": "d099eaa2-6645-4cce-a56a-da6efe3c029a",
   "metadata": {},
   "outputs": [],
   "source": [
    "# FRETE MÉDIO POR LOJA\n",
    "# função que retorna o valor médio por Loja\n",
    "\n",
    "def media_frete(dataset):\n",
    "    media = dataset[\"Frete\"].mean()\n",
    "    return f'{round(media,2)}'"
   ]
  },
  {
   "cell_type": "markdown",
   "id": "40536ac4-9716-4097-b0ad-f4519b9e330e",
   "metadata": {},
   "source": [
    "## 1. FATURAMENTO"
   ]
  },
  {
   "cell_type": "code",
   "execution_count": 33,
   "id": "029f0712-497d-4288-bce0-91877a1791cb",
   "metadata": {},
   "outputs": [
    {
     "name": "stdout",
     "output_type": "stream",
     "text": [
      "Faturamento Loja_1: 1,534,509.12\n",
      "Faturamento Loja_2: 1,488,459.06\n",
      "Faturamento Loja_3: 1,464,025.03\n",
      "Faturamento Loja_4: 1,384,497.58\n"
     ]
    }
   ],
   "source": [
    "#loja 1\n",
    "print(f'Faturamento Loja_1: {faturamento(loja1)}')\n",
    "print(f'Faturamento Loja_2: {faturamento(loja2)}')\n",
    "print(f'Faturamento Loja_3: {faturamento(loja3)}')\n",
    "print(f'Faturamento Loja_4: {faturamento(loja4)}')"
   ]
  },
  {
   "cell_type": "markdown",
   "id": "2d184cfb-83f4-4299-ad0d-9b452e70af36",
   "metadata": {},
   "source": [
    "## 2. Vendas por Categoria"
   ]
  },
  {
   "cell_type": "code",
   "execution_count": 100,
   "id": "95824315-331c-4ca3-a96a-db829fa42868",
   "metadata": {},
   "outputs": [
    {
     "name": "stdout",
     "output_type": "stream",
     "text": [
      "Vendas por categoria \n",
      "Categoria do Produto\n",
      "brinquedos               324\n",
      "eletrodomesticos         312\n",
      "eletronicos              448\n",
      "esporte e lazer          284\n",
      "instrumentos musicais    182\n",
      "livros                   173\n",
      "moveis                   465\n",
      "utilidades domesticas    171\n",
      "Name: Produto, dtype: int64\n",
      " \n",
      "Vendas por categoria \n",
      "Categoria do Produto\n",
      "brinquedos               338\n",
      "eletrodomesticos         254\n",
      "eletronicos              451\n",
      "esporte e lazer          277\n",
      "instrumentos musicais    170\n",
      "livros                   187\n",
      "moveis                   480\n",
      "utilidades domesticas    201\n",
      "Name: Produto, dtype: int64\n"
     ]
    }
   ],
   "source": [
    "#loja 1 \n",
    "print(f'Vendas por categoria \\n{vendas_categoria(loja1)}')\n",
    "print(\" \")\n",
    "print(f'Vendas por categoria \\n{vendas_categoria(loja4)}')"
   ]
  },
  {
   "cell_type": "markdown",
   "id": "4b34913a-45b7-4264-9ff3-21edccbfe7e1",
   "metadata": {},
   "source": [
    "## 3. Média de Avaliações das Lojas"
   ]
  },
  {
   "cell_type": "code",
   "execution_count": 39,
   "id": "3e047c60-23d5-4bf1-b9ab-5e227f484b5d",
   "metadata": {},
   "outputs": [
    {
     "name": "stdout",
     "output_type": "stream",
     "text": [
      "Média Avaliações Loja_1 3.98\n",
      "Média Avaliações Loja_2 4.04\n",
      "Média Avaliações Loja_3 4.05\n",
      "Média Avaliações Loja_4 4.0\n"
     ]
    }
   ],
   "source": [
    "#loja 1 \n",
    "print(f'Média Avaliações Loja_1 {media_avaliacoes(loja1)}')\n",
    "print(f'Média Avaliações Loja_2 {media_avaliacoes(loja2)}')\n",
    "print(f'Média Avaliações Loja_3 {media_avaliacoes(loja3)}')\n",
    "print(f'Média Avaliações Loja_4 {media_avaliacoes(loja4)}')"
   ]
  },
  {
   "cell_type": "markdown",
   "id": "a5a70c65-cc10-4ef8-9cdc-deb4eb24346c",
   "metadata": {},
   "source": [
    "## 4. Produtos Mais e Menos Vendidos"
   ]
  },
  {
   "cell_type": "code",
   "execution_count": null,
   "id": "121deeec-8037-4f6a-961e-36c701d34924",
   "metadata": {},
   "outputs": [],
   "source": [
    "teste = loja1.groupby(\"Produto\")[\"Produto\"].count()"
   ]
  },
  {
   "cell_type": "code",
   "execution_count": 148,
   "id": "fe778162-bbe4-4646-8332-b50130e6409b",
   "metadata": {},
   "outputs": [],
   "source": [
    "maiores = teste.sort_values(ascending=False).head(5)\n",
    "menores = teste.sort_values(ascending=False).tail(5)"
   ]
  },
  {
   "cell_type": "code",
   "execution_count": 150,
   "id": "880a8f19-da84-4ee6-ad04-cb073d6c0e29",
   "metadata": {},
   "outputs": [
    {
     "data": {
      "text/plain": [
       "Produto\n",
       "Ciência de dados com python    39\n",
       "Pandeiro                       36\n",
       "Panela de pressão              35\n",
       "Celular ABXY                   33\n",
       "Headset                        33\n",
       "Name: Produto, dtype: int64"
      ]
     },
     "execution_count": 150,
     "metadata": {},
     "output_type": "execute_result"
    }
   ],
   "source": [
    "menores"
   ]
  },
  {
   "cell_type": "code",
   "execution_count": 152,
   "id": "9734d94c-39f8-44a6-963f-4cdb9d52719c",
   "metadata": {},
   "outputs": [
    {
     "data": {
      "text/plain": [
       "Produto\n",
       "TV Led UHD 4K         60\n",
       "Micro-ondas           60\n",
       "Guarda roupas         60\n",
       "Secadora de roupas    58\n",
       "Blocos de montar      56\n",
       "Name: Produto, dtype: int64"
      ]
     },
     "execution_count": 152,
     "metadata": {},
     "output_type": "execute_result"
    }
   ],
   "source": [
    "maiores"
   ]
  },
  {
   "cell_type": "markdown",
   "id": "6117740c-3592-42b2-a911-de1f0c1be240",
   "metadata": {},
   "source": [
    "## 5. Frete Medio por Loja"
   ]
  },
  {
   "cell_type": "code",
   "execution_count": 43,
   "id": "71e79917-d7a3-4971-8236-7e91ec254b5d",
   "metadata": {},
   "outputs": [
    {
     "name": "stdout",
     "output_type": "stream",
     "text": [
      "Frete Médio Loja_1 34.69\n",
      "Frete Médio Loja_2 33.62\n",
      "Frete Médio Loja_3 33.07\n",
      "Frete Médio Loja_4 31.28\n"
     ]
    }
   ],
   "source": [
    "# loja 1\n",
    "print(f'Frete Médio Loja_1 {media_frete(loja1)}')\n",
    "print(f'Frete Médio Loja_2 {media_frete(loja2)}')\n",
    "print(f'Frete Médio Loja_3 {media_frete(loja3)}')\n",
    "print(f'Frete Médio Loja_4 {media_frete(loja4)}')"
   ]
  },
  {
   "cell_type": "code",
   "execution_count": null,
   "id": "da02bc9b-031e-42dd-972c-bfb8af115f79",
   "metadata": {},
   "outputs": [],
   "source": []
  },
  {
   "cell_type": "code",
   "execution_count": null,
   "id": "f3903033-26ed-4b23-b684-c1856a4f91d9",
   "metadata": {},
   "outputs": [],
   "source": []
  },
  {
   "cell_type": "code",
   "execution_count": null,
   "id": "a6e62c6a-0810-4b84-bca7-af1301cd0190",
   "metadata": {},
   "outputs": [],
   "source": []
  },
  {
   "cell_type": "code",
   "execution_count": null,
   "id": "706c31a5-4f52-4a44-a4d1-6cd079ccdfcc",
   "metadata": {},
   "outputs": [],
   "source": []
  },
  {
   "cell_type": "code",
   "execution_count": null,
   "id": "12ebfd1f-95e4-4114-a164-8fc860b2c8b8",
   "metadata": {},
   "outputs": [],
   "source": []
  },
  {
   "cell_type": "code",
   "execution_count": null,
   "id": "7fc41bba-bc97-4a99-99e4-0254003875aa",
   "metadata": {},
   "outputs": [],
   "source": []
  },
  {
   "cell_type": "code",
   "execution_count": null,
   "id": "d55254ea-2891-4ef8-8b93-f4f5ddd74869",
   "metadata": {},
   "outputs": [],
   "source": []
  },
  {
   "cell_type": "code",
   "execution_count": null,
   "id": "9c6e580f-21bb-42b4-83de-fe41f09680c1",
   "metadata": {},
   "outputs": [],
   "source": []
  },
  {
   "cell_type": "code",
   "execution_count": null,
   "id": "bacc01ac-cbf6-4110-93f5-94976f2bbeb2",
   "metadata": {},
   "outputs": [],
   "source": []
  }
 ],
 "metadata": {
  "kernelspec": {
   "display_name": "Python [conda env:base] *",
   "language": "python",
   "name": "conda-base-py"
  },
  "language_info": {
   "codemirror_mode": {
    "name": "ipython",
    "version": 3
   },
   "file_extension": ".py",
   "mimetype": "text/x-python",
   "name": "python",
   "nbconvert_exporter": "python",
   "pygments_lexer": "ipython3",
   "version": "3.12.7"
  }
 },
 "nbformat": 4,
 "nbformat_minor": 5
}
